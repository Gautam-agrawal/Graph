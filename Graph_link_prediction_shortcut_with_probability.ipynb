{
 "cells": [
  {
   "cell_type": "code",
   "execution_count": 2,
   "metadata": {},
   "outputs": [],
   "source": [
    "import numpy as np\n",
    "from sklearn.linear_model import LogisticRegression\n",
    "import matplotlib.pyplot as plt\n",
    "import networkx as nx\n",
    "from sklearn.manifold import TSNE\n",
    "import random\n",
    "import warnings\n",
    "from sklearn.cluster import KMeans\n",
    "from sklearn.metrics import accuracy_score, f1_score\n",
    "import community as comm\n",
    "from community import community_louvain\n",
    "warnings.filterwarnings('ignore')\n",
    "%run ./helper.ipynb\n",
    "#%run ./prediction.ipynb\n"
   ]
  },
  {
   "cell_type": "code",
   "execution_count": 3,
   "metadata": {},
   "outputs": [],
   "source": [
    "def node_classification(embeddings, label):\n",
    "    X, Y = read_node_label(label,skip_head=True)\n",
    "    \n",
    "    ltrainfrac = [.7]\n",
    "    for tf in ltrainfrac:\n",
    "        print(\"Training classifier using {:.2f}% nodes...\".format(tf * 100))\n",
    "        split_train_evaluate(X, Y, embeddings, tf)"
   ]
  },
  {
   "cell_type": "code",
   "execution_count": 4,
   "metadata": {},
   "outputs": [],
   "source": [
    "def makeLinkPredictionData(graph, embeddings):\n",
    "    # converting embedding to a numpy array\n",
    "    X = [[0] for i in range(G.number_of_nodes())]\n",
    "    for i in range(0, G.number_of_nodes()):\n",
    "        X[i] = embeddings[str(i+1)]\n",
    "    X = np.array(X)\n",
    "    \n",
    "    Xd = []\n",
    "    Yd = []\n",
    "    count = 0\n",
    "    # for all vertices\n",
    "    for u in range(graph.number_of_nodes()):\n",
    "        Nu = list(graph.neighbors(u))\n",
    "        count += len(Nu)\n",
    "        cn = 0\n",
    "        totalns = 0\n",
    "        # for all neighbors of u\n",
    "        for n in Nu:\n",
    "            x = []\n",
    "            if n > u:\n",
    "                for d in range(len(X[0])):\n",
    "                    x.append(X[u][d] - X[n][d]) # distance between the embeddings of u and its neighbor n\n",
    "                Xd.append(x)\n",
    "                Yd.append(1) # positive sample (edge present)\n",
    "                totalns += 1\n",
    "        tmpnn = []\n",
    "        if len(Nu) > graph.number_of_nodes() // 2:\n",
    "            totalns = (graph.number_of_nodes() - len(Nu)) // 2\n",
    "            #print(\"Testing neighbors!\")\n",
    "        while cn < totalns:\n",
    "            nn = random.randint(0, graph.number_of_nodes() - 1)\n",
    "            # non-neighbors of u\n",
    "            if nn not in Nu and nn not in tmpnn:\n",
    "                cn += 1\n",
    "                x = []\n",
    "                for d in range(len(X[0])):\n",
    "                    x.append(X[u][d] - X[nn][d])\n",
    "                Xd.append(x)\n",
    "                Yd.append(0) # negative sample (edge absent)\n",
    "                tmpnn.append(nn)\n",
    "    Xd, Yd = np.array(Xd), np.array(Yd)\n",
    "    indices = np.array(range(len(Yd)))\n",
    "    np.random.shuffle(indices)\n",
    "    Xt = Xd[indices]\n",
    "    Yt = Yd[indices]\n",
    "    #print(len(Xd), len(Yd), count)\n",
    "    \n",
    "    \n",
    "    ltrainfrac = [.7]\n",
    "    for tf in ltrainfrac:\n",
    "        CV = int(len(Yt) * tf)\n",
    "        trainX = Xt[0:CV]\n",
    "        testX = Xt[CV:]\n",
    "        trainY = Yt[0:CV]\n",
    "        testY = Yt[CV:]\n",
    "        modelLR = LogisticRegression().fit(trainX, trainY)\n",
    "        predictedY = modelLR.predict(testX)\n",
    "        acc = accuracy_score(predictedY, testY)\n",
    "        #f1macro = f1_score(predictedY, testY, average='macro', labels=np.unique(predictedY))\n",
    "        #f1micro = f1_score(predictedY, testY, average='micro', labels=np.unique(predictedY))\n",
    "        #print(\"Link predictions:\", tf, \":Accuracy:\",acc, \"F1-macro:\", f1macro, \"F1-micro:\",f1micro)\n",
    "        print(\"Link predictions:\", tf, \":Accuracy:\",acc)"
   ]
  },
  {
   "cell_type": "code",
   "execution_count": 5,
   "metadata": {},
   "outputs": [],
   "source": [
    "def cluster_eval(G, embeddings):\n",
    "    # converting embedding to a numpy array\n",
    "    X = [[0] for i in range(G.number_of_nodes())]\n",
    "    for i in range(0, G.number_of_nodes()):\n",
    "        X[i] = embeddings[str(i+1)]\n",
    "    X = np.array(X)\n",
    "\n",
    "    bestModularity = 0\n",
    "    bestC = 10\n",
    "    NOC = 11\n",
    "    allmodularity = []\n",
    "    for cls in range(10, NOC):\n",
    "        \n",
    "        # find clusters using a kmeans clustering algorithm on the embedding\n",
    "        # Number of clusters is set to cls\n",
    "        clusters = KMeans(n_clusters=cls, random_state=0).fit(X)\n",
    "        predG = dict()\n",
    "        for node in range(len(clusters.labels_)):\n",
    "            predG[node] = clusters.labels_[node]\n",
    "        \n",
    "        # compute the modularity score of the Kmeans clustering\n",
    "        modularity = comm.community_louvain.modularity(predG, G)\n",
    "        allmodularity.append(modularity)\n",
    "        print(\"Number of clusters: \", cls, \"  Modularity: \", modularity)\n",
    "        if modularity > bestModularity:\n",
    "            bestModularity = modularity\n",
    "            bestC = cls"
   ]
  },
  {
   "cell_type": "code",
   "execution_count": 22,
   "metadata": {},
   "outputs": [],
   "source": [
    "\n",
    "def shortcut_walk(G, num_walks, walk_length, p):\n",
    "    nodes = list(G.nodes())\n",
    "    walks = []\n",
    "    for _ in range(num_walks):\n",
    "        for v in nodes:\n",
    "            walk = [v]\n",
    "            while len(walk) < walk_length:\n",
    "                if random.random() < p:\n",
    "                    cur = walk[-1]\n",
    "                    cur_nbrs = list(G.neighbors(cur))\n",
    "                    if len(cur_nbrs) > 0:\n",
    "                        walk.append(random.choice(cur_nbrs))\n",
    "                    else:\n",
    "                        break\n",
    "                else:\n",
    "                    # Select a non-neighbor node\n",
    "                    cur = walk[-1]\n",
    "                    nbrs = list(G.neighbors(cur))\n",
    "                    non_nbrs = [u for u in nodes if u != cur and u not in nbrs]\n",
    "                    if non_nbrs:\n",
    "                        walk.append(random.choice(non_nbrs))\n",
    "                    else:\n",
    "                        # No non-neighbors available, terminate the walk\n",
    "                        break\n",
    "            walks.append(walk)\n",
    "    return walks\n"
   ]
  },
  {
   "cell_type": "code",
   "execution_count": 18,
   "metadata": {},
   "outputs": [],
   "source": [
    "graphfile = 'cora.txt'\n",
    "labelfile = 'cora.nodes.labels'\n",
    "G = nx.read_edgelist('cora.txt', nodetype=None)\n",
    "G = G.to_directed()"
   ]
  },
  {
   "cell_type": "code",
   "execution_count": 20,
   "metadata": {},
   "outputs": [
    {
     "name": "stdout",
     "output_type": "stream",
     "text": [
      "Learning embedding vectors...\n",
      "Learning embedding vectors done!\n"
     ]
    }
   ],
   "source": [
    "walks_deepwalk = shortcut_walk(G, walk_length=10, num_walks=80,p=1)\n",
    "embeddings_deepwalk001 = get_embedding(G,walks_deepwalk)"
   ]
  },
  {
   "cell_type": "code",
   "execution_count": 23,
   "metadata": {},
   "outputs": [
    {
     "name": "stdout",
     "output_type": "stream",
     "text": [
      "Learning embedding vectors...\n",
      "Learning embedding vectors done!\n"
     ]
    }
   ],
   "source": [
    "walks_deepwalk = shortcut_walk(G, walk_length=10, num_walks=80,p=0.5)\n",
    "embeddings_deepwalk05 = get_embedding(G,walks_deepwalk)"
   ]
  },
  {
   "cell_type": "code",
   "execution_count": 24,
   "metadata": {},
   "outputs": [
    {
     "name": "stdout",
     "output_type": "stream",
     "text": [
      "Learning embedding vectors...\n",
      "Learning embedding vectors done!\n"
     ]
    }
   ],
   "source": [
    "walks_deepwalk = shortcut_walk(G, walk_length=10, num_walks=80,p=0.25)\n",
    "embeddings_deepwalk025 = get_embedding(G,walks_deepwalk)"
   ]
  },
  {
   "cell_type": "code",
   "execution_count": 26,
   "metadata": {},
   "outputs": [
    {
     "name": "stdout",
     "output_type": "stream",
     "text": [
      "Learning embedding vectors...\n",
      "Learning embedding vectors done!\n"
     ]
    }
   ],
   "source": [
    "walks_deepwalk = shortcut_walk(G, walk_length=10, num_walks=80,p=0.1)\n",
    "embeddings_deepwalk01 = get_embedding(G,walks_deepwalk)"
   ]
  },
  {
   "cell_type": "code",
   "execution_count": 27,
   "metadata": {},
   "outputs": [
    {
     "name": "stdout",
     "output_type": "stream",
     "text": [
      "Learning embedding vectors...\n",
      "Learning embedding vectors done!\n"
     ]
    }
   ],
   "source": [
    "walks_deepwalk = shortcut_walk(G, walk_length=10, num_walks=80,p=0.01)\n",
    "embeddings_deepwalk1 = get_embedding(G,walks_deepwalk)"
   ]
  },
  {
   "cell_type": "markdown",
   "metadata": {},
   "source": [
    "<h6>question 3a<h6>"
   ]
  },
  {
   "cell_type": "markdown",
   "metadata": {},
   "source": [
    "<h6>node classification<h6>"
   ]
  },
  {
   "cell_type": "code",
   "execution_count": 29,
   "metadata": {},
   "outputs": [
    {
     "name": "stdout",
     "output_type": "stream",
     "text": [
      "Training classifier using 70.00% nodes...\n",
      "-------------------\n",
      "{'acc': 0.26535626535626533}\n",
      "-------------------\n"
     ]
    }
   ],
   "source": [
    "node_classification(embeddings_deepwalk1, labelfile)"
   ]
  },
  {
   "cell_type": "code",
   "execution_count": 31,
   "metadata": {},
   "outputs": [
    {
     "name": "stdout",
     "output_type": "stream",
     "text": [
      "Training classifier using 70.00% nodes...\n",
      "-------------------\n",
      "{'acc': 0.515970515970516}\n",
      "-------------------\n"
     ]
    }
   ],
   "source": [
    "node_classification(embeddings_deepwalk01, labelfile)"
   ]
  },
  {
   "cell_type": "code",
   "execution_count": 32,
   "metadata": {},
   "outputs": [
    {
     "name": "stdout",
     "output_type": "stream",
     "text": [
      "Training classifier using 70.00% nodes...\n",
      "-------------------\n",
      "{'acc': 0.6339066339066339}\n",
      "-------------------\n"
     ]
    }
   ],
   "source": [
    "node_classification(embeddings_deepwalk025, labelfile)"
   ]
  },
  {
   "cell_type": "code",
   "execution_count": 33,
   "metadata": {},
   "outputs": [
    {
     "name": "stdout",
     "output_type": "stream",
     "text": [
      "Training classifier using 70.00% nodes...\n",
      "-------------------\n",
      "{'acc': 0.6805896805896806}\n",
      "-------------------\n"
     ]
    }
   ],
   "source": [
    "node_classification(embeddings_deepwalk05, labelfile)"
   ]
  },
  {
   "cell_type": "code",
   "execution_count": 34,
   "metadata": {},
   "outputs": [
    {
     "name": "stdout",
     "output_type": "stream",
     "text": [
      "Training classifier using 70.00% nodes...\n",
      "-------------------\n",
      "{'acc': 0.7911547911547911}\n",
      "-------------------\n"
     ]
    }
   ],
   "source": [
    "node_classification(embeddings_deepwalk001, labelfile)"
   ]
  },
  {
   "cell_type": "markdown",
   "metadata": {},
   "source": [
    "<h6>link prediction<h6>"
   ]
  },
  {
   "cell_type": "code",
   "execution_count": 35,
   "metadata": {},
   "outputs": [],
   "source": [
    "G1 = G.to_undirected()\n",
    "G1 = nx.relabel_nodes(G1, lambda x: int(x)-1)"
   ]
  },
  {
   "cell_type": "code",
   "execution_count": 36,
   "metadata": {},
   "outputs": [
    {
     "name": "stdout",
     "output_type": "stream",
     "text": [
      "Link predictions: 0.7 :Accuracy: 0.5115251026207768\n"
     ]
    }
   ],
   "source": [
    "makeLinkPredictionData(G1, embeddings_deepwalk1) "
   ]
  },
  {
   "cell_type": "code",
   "execution_count": 37,
   "metadata": {},
   "outputs": [
    {
     "name": "stdout",
     "output_type": "stream",
     "text": [
      "Link predictions: 0.7 :Accuracy: 0.5386801389327439\n"
     ]
    }
   ],
   "source": [
    "makeLinkPredictionData(G1, embeddings_deepwalk01) "
   ]
  },
  {
   "cell_type": "code",
   "execution_count": 38,
   "metadata": {},
   "outputs": [
    {
     "name": "stdout",
     "output_type": "stream",
     "text": [
      "Link predictions: 0.7 :Accuracy: 0.5569940006315125\n"
     ]
    }
   ],
   "source": [
    "makeLinkPredictionData(G1, embeddings_deepwalk025) "
   ]
  },
  {
   "cell_type": "code",
   "execution_count": 39,
   "metadata": {},
   "outputs": [
    {
     "name": "stdout",
     "output_type": "stream",
     "text": [
      "Link predictions: 0.7 :Accuracy: 0.5648879065361541\n"
     ]
    }
   ],
   "source": [
    "makeLinkPredictionData(G1, embeddings_deepwalk05) "
   ]
  },
  {
   "cell_type": "code",
   "execution_count": 40,
   "metadata": {},
   "outputs": [
    {
     "name": "stdout",
     "output_type": "stream",
     "text": [
      "Link predictions: 0.7 :Accuracy: 0.5917271866119356\n"
     ]
    }
   ],
   "source": [
    "makeLinkPredictionData(G1, embeddings_deepwalk001) "
   ]
  },
  {
   "cell_type": "markdown",
   "metadata": {},
   "source": [
    "<h6>clust eval<h6>"
   ]
  },
  {
   "cell_type": "code",
   "execution_count": 41,
   "metadata": {},
   "outputs": [
    {
     "name": "stdout",
     "output_type": "stream",
     "text": [
      "Number of clusters:  10   Modularity:  0.014506044451426062\n"
     ]
    }
   ],
   "source": [
    "cluster_eval(G1, embeddings_deepwalk1)"
   ]
  },
  {
   "cell_type": "code",
   "execution_count": 42,
   "metadata": {},
   "outputs": [
    {
     "name": "stdout",
     "output_type": "stream",
     "text": [
      "Number of clusters:  10   Modularity:  0.3566520339886688\n"
     ]
    }
   ],
   "source": [
    "cluster_eval(G1, embeddings_deepwalk01)"
   ]
  },
  {
   "cell_type": "code",
   "execution_count": 43,
   "metadata": {},
   "outputs": [
    {
     "name": "stdout",
     "output_type": "stream",
     "text": [
      "Number of clusters:  10   Modularity:  0.5926278024806725\n"
     ]
    }
   ],
   "source": [
    "cluster_eval(G1, embeddings_deepwalk025)"
   ]
  },
  {
   "cell_type": "code",
   "execution_count": 44,
   "metadata": {},
   "outputs": [
    {
     "name": "stdout",
     "output_type": "stream",
     "text": [
      "Number of clusters:  10   Modularity:  0.5118386810429905\n"
     ]
    }
   ],
   "source": [
    "cluster_eval(G1, embeddings_deepwalk05)"
   ]
  },
  {
   "cell_type": "code",
   "execution_count": 45,
   "metadata": {},
   "outputs": [
    {
     "name": "stdout",
     "output_type": "stream",
     "text": [
      "Number of clusters:  10   Modularity:  0.755320206377621\n"
     ]
    }
   ],
   "source": [
    "cluster_eval(G1, embeddings_deepwalk001)"
   ]
  },
  {
   "cell_type": "markdown",
   "metadata": {},
   "source": [
    "<h6>Observation: Taking shortcut degrades the quality of trend .Higher value of p gives better result\n",
    "which represents normal deep walks . P with high values gives best result in all the three cases<h6>"
   ]
  },
  {
   "cell_type": "code",
   "execution_count": null,
   "metadata": {},
   "outputs": [],
   "source": []
  }
 ],
 "metadata": {
  "kernelspec": {
   "display_name": "Python 3",
   "language": "python",
   "name": "python3"
  },
  "language_info": {
   "codemirror_mode": {
    "name": "ipython",
    "version": 3
   },
   "file_extension": ".py",
   "mimetype": "text/x-python",
   "name": "python",
   "nbconvert_exporter": "python",
   "pygments_lexer": "ipython3",
   "version": "3.8.5"
  }
 },
 "nbformat": 4,
 "nbformat_minor": 4
}

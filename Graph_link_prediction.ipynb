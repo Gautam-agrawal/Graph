{
 "cells": [
  {
   "cell_type": "code",
   "execution_count": 40,
   "metadata": {},
   "outputs": [],
   "source": [
    "import numpy as np\n",
    "from sklearn.linear_model import LogisticRegression\n",
    "import matplotlib.pyplot as plt\n",
    "import networkx as nx\n",
    "from sklearn.manifold import TSNE\n",
    "import random\n",
    "import warnings\n",
    "from sklearn.cluster import KMeans\n",
    "from sklearn.metrics import accuracy_score, f1_score\n",
    "import community as comm\n",
    "from community import community_louvain\n",
    "warnings.filterwarnings('ignore')\n",
    "%run ./helper.ipynb\n",
    "#%run ./prediction.ipynb\n"
   ]
  },
  {
   "cell_type": "code",
   "execution_count": 7,
   "metadata": {},
   "outputs": [
    {
     "name": "stdout",
     "output_type": "stream",
     "text": [
      "Number of nodes:  2708\n",
      "Number of edges:  10556\n"
     ]
    }
   ],
   "source": [
    "graphfile = 'cora.txt'\n",
    "labelfile = 'cora.nodes.labels'\n",
    "G = nx.read_edgelist('cora.txt', nodetype=None)\n",
    "G = G.to_directed()\n",
    "print(\"Number of nodes: \", G.number_of_nodes())\n",
    "print(\"Number of edges: \", G.number_of_edges())"
   ]
  },
  {
   "cell_type": "markdown",
   "metadata": {},
   "source": [
    "<h4>Question 1<h4>\n",
    "\n"
   ]
  },
  {
   "cell_type": "markdown",
   "metadata": {},
   "source": [
    "<h6>a<h6>"
   ]
  },
  {
   "cell_type": "code",
   "execution_count": 9,
   "metadata": {},
   "outputs": [
    {
     "name": "stdout",
     "output_type": "stream",
     "text": [
      "Learning embedding vectors...\n",
      "Learning embedding vectors done!\n"
     ]
    }
   ],
   "source": [
    "walks_deepwalk1 = deepwalk_walks(G, walk_length=1, num_walks=80)\n",
    "embeddings_deepwalk1 = get_embedding(G,walks_deepwalk1)"
   ]
  },
  {
   "cell_type": "code",
   "execution_count": 10,
   "metadata": {},
   "outputs": [
    {
     "name": "stdout",
     "output_type": "stream",
     "text": [
      "Learning embedding vectors...\n",
      "Learning embedding vectors done!\n"
     ]
    }
   ],
   "source": [
    "walks_deepwalk5 = deepwalk_walks(G, walk_length=5, num_walks=80)\n",
    "embeddings_deepwalk5 = get_embedding(G,walks_deepwalk5)"
   ]
  },
  {
   "cell_type": "code",
   "execution_count": 11,
   "metadata": {},
   "outputs": [
    {
     "name": "stdout",
     "output_type": "stream",
     "text": [
      "Learning embedding vectors...\n",
      "Learning embedding vectors done!\n"
     ]
    }
   ],
   "source": [
    "walks_deepwalk10 = deepwalk_walks(G, walk_length=10, num_walks=80)\n",
    "embeddings_deepwalk10 = get_embedding(G,walks_deepwalk10)"
   ]
  },
  {
   "cell_type": "code",
   "execution_count": 12,
   "metadata": {},
   "outputs": [
    {
     "name": "stdout",
     "output_type": "stream",
     "text": [
      "Learning embedding vectors...\n",
      "Learning embedding vectors done!\n"
     ]
    }
   ],
   "source": [
    "walks_deepwalk20 = deepwalk_walks(G, walk_length=20, num_walks=80)\n",
    "embeddings_deepwalk20 = get_embedding(G,walks_deepwalk20)"
   ]
  },
  {
   "cell_type": "code",
   "execution_count": 13,
   "metadata": {},
   "outputs": [
    {
     "name": "stdout",
     "output_type": "stream",
     "text": [
      "Learning embedding vectors...\n",
      "Learning embedding vectors done!\n"
     ]
    }
   ],
   "source": [
    "walks_deepwalk50 = deepwalk_walks(G, walk_length=50, num_walks=80)\n",
    "embeddings_deepwalk50 = get_embedding(G,walks_deepwalk50)"
   ]
  },
  {
   "cell_type": "code",
   "execution_count": 15,
   "metadata": {},
   "outputs": [],
   "source": [
    "def node_classification(embeddings, label):\n",
    "    X, Y = read_node_label(label,skip_head=True)\n",
    "    \n",
    "    ltrainfrac = [.7]\n",
    "    for tf in ltrainfrac:\n",
    "        print(\"Training classifier using {:.2f}% nodes...\".format(tf * 100))\n",
    "        split_train_evaluate(X, Y, embeddings, tf)"
   ]
  },
  {
   "cell_type": "code",
   "execution_count": 16,
   "metadata": {},
   "outputs": [
    {
     "name": "stdout",
     "output_type": "stream",
     "text": [
      "Training classifier using 70.00% nodes...\n",
      "-------------------\n",
      "{'acc': 0.29484029484029484}\n",
      "-------------------\n"
     ]
    }
   ],
   "source": [
    "node_classification(embeddings_deepwalk1, labelfile)"
   ]
  },
  {
   "cell_type": "code",
   "execution_count": 19,
   "metadata": {},
   "outputs": [
    {
     "name": "stdout",
     "output_type": "stream",
     "text": [
      "Training classifier using 70.00% nodes...\n",
      "-------------------\n",
      "{'acc': 0.769041769041769}\n",
      "-------------------\n"
     ]
    }
   ],
   "source": [
    "node_classification(embeddings_deepwalk5, labelfile)"
   ]
  },
  {
   "cell_type": "code",
   "execution_count": 20,
   "metadata": {},
   "outputs": [
    {
     "name": "stdout",
     "output_type": "stream",
     "text": [
      "Training classifier using 70.00% nodes...\n",
      "-------------------\n",
      "{'acc': 0.7641277641277642}\n",
      "-------------------\n"
     ]
    }
   ],
   "source": [
    "node_classification(embeddings_deepwalk10, labelfile)"
   ]
  },
  {
   "cell_type": "code",
   "execution_count": 21,
   "metadata": {},
   "outputs": [
    {
     "name": "stdout",
     "output_type": "stream",
     "text": [
      "Training classifier using 70.00% nodes...\n",
      "-------------------\n",
      "{'acc': 0.7985257985257985}\n",
      "-------------------\n"
     ]
    }
   ],
   "source": [
    "node_classification(embeddings_deepwalk20, labelfile)"
   ]
  },
  {
   "cell_type": "code",
   "execution_count": 22,
   "metadata": {},
   "outputs": [
    {
     "name": "stdout",
     "output_type": "stream",
     "text": [
      "Training classifier using 70.00% nodes...\n",
      "-------------------\n",
      "{'acc': 0.8083538083538083}\n",
      "-------------------\n"
     ]
    }
   ],
   "source": [
    "node_classification(embeddings_deepwalk50, labelfile)"
   ]
  },
  {
   "cell_type": "markdown",
   "metadata": {},
   "source": [
    "<h6>question1 b<h6>"
   ]
  },
  {
   "cell_type": "code",
   "execution_count": 66,
   "metadata": {},
   "outputs": [],
   "source": [
    "def makeLinkPredictionData(graph, embeddings):\n",
    "    # converting embedding to a numpy array\n",
    "    X = [[0] for i in range(G.number_of_nodes())]\n",
    "    for i in range(0, G.number_of_nodes()):\n",
    "        X[i] = embeddings[str(i+1)]\n",
    "    X = np.array(X)\n",
    "    \n",
    "    Xd = []\n",
    "    Yd = []\n",
    "    count = 0\n",
    "    # for all vertices\n",
    "    for u in range(graph.number_of_nodes()):\n",
    "        Nu = list(graph.neighbors(u))\n",
    "        count += len(Nu)\n",
    "        cn = 0\n",
    "        totalns = 0\n",
    "        # for all neighbors of u\n",
    "        for n in Nu:\n",
    "            x = []\n",
    "            if n > u:\n",
    "                for d in range(len(X[0])):\n",
    "                    x.append(X[u][d] - X[n][d]) # distance between the embeddings of u and its neighbor n\n",
    "                Xd.append(x)\n",
    "                Yd.append(1) # positive sample (edge present)\n",
    "                totalns += 1\n",
    "        tmpnn = []\n",
    "        if len(Nu) > graph.number_of_nodes() // 2:\n",
    "            totalns = (graph.number_of_nodes() - len(Nu)) // 2\n",
    "            #print(\"Testing neighbors!\")\n",
    "        while cn < totalns:\n",
    "            nn = random.randint(0, graph.number_of_nodes() - 1)\n",
    "            # non-neighbors of u\n",
    "            if nn not in Nu and nn not in tmpnn:\n",
    "                cn += 1\n",
    "                x = []\n",
    "                for d in range(len(X[0])):\n",
    "                    x.append(X[u][d] - X[nn][d])\n",
    "                Xd.append(x)\n",
    "                Yd.append(0) # negative sample (edge absent)\n",
    "                tmpnn.append(nn)\n",
    "    Xd, Yd = np.array(Xd), np.array(Yd)\n",
    "    indices = np.array(range(len(Yd)))\n",
    "    np.random.shuffle(indices)\n",
    "    Xt = Xd[indices]\n",
    "    Yt = Yd[indices]\n",
    "    #print(len(Xd), len(Yd), count)\n",
    "    \n",
    "    \n",
    "    ltrainfrac = [.7]\n",
    "    for tf in ltrainfrac:\n",
    "        CV = int(len(Yt) * tf)\n",
    "        trainX = Xt[0:CV]\n",
    "        testX = Xt[CV:]\n",
    "        trainY = Yt[0:CV]\n",
    "        testY = Yt[CV:]\n",
    "        modelLR = LogisticRegression().fit(trainX, trainY)\n",
    "        predictedY = modelLR.predict(testX)\n",
    "        acc = accuracy_score(predictedY, testY)\n",
    "        #f1macro = f1_score(predictedY, testY, average='macro', labels=np.unique(predictedY))\n",
    "        #f1micro = f1_score(predictedY, testY, average='micro', labels=np.unique(predictedY))\n",
    "        #print(\"Link predictions:\", tf, \":Accuracy:\",acc, \"F1-macro:\", f1macro, \"F1-micro:\",f1micro)\n",
    "        print(\"Link predictions:\", tf, \":Accuracy:\",acc)"
   ]
  },
  {
   "cell_type": "code",
   "execution_count": 26,
   "metadata": {},
   "outputs": [],
   "source": [
    "G1 = G.to_undirected()\n",
    "G1 = nx.relabel_nodes(G1, lambda x: int(x)-1)"
   ]
  },
  {
   "cell_type": "code",
   "execution_count": 27,
   "metadata": {},
   "outputs": [
    {
     "name": "stdout",
     "output_type": "stream",
     "text": [
      "Link predictions: 0.7 :Accuracy: 0.5108935901484054\n"
     ]
    }
   ],
   "source": [
    "makeLinkPredictionData(G1, embeddings_deepwalk1) "
   ]
  },
  {
   "cell_type": "code",
   "execution_count": 28,
   "metadata": {},
   "outputs": [
    {
     "name": "stdout",
     "output_type": "stream",
     "text": [
      "Link predictions: 0.7 :Accuracy: 0.5614145879381118\n"
     ]
    }
   ],
   "source": [
    "makeLinkPredictionData(G1, embeddings_deepwalk5) "
   ]
  },
  {
   "cell_type": "code",
   "execution_count": 29,
   "metadata": {},
   "outputs": [
    {
     "name": "stdout",
     "output_type": "stream",
     "text": [
      "Link predictions: 0.7 :Accuracy: 0.588569624250079\n"
     ]
    }
   ],
   "source": [
    "makeLinkPredictionData(G1, embeddings_deepwalk10) "
   ]
  },
  {
   "cell_type": "code",
   "execution_count": 30,
   "metadata": {},
   "outputs": [
    {
     "name": "stdout",
     "output_type": "stream",
     "text": [
      "Link predictions: 0.7 :Accuracy: 0.5879381117777076\n"
     ]
    }
   ],
   "source": [
    "makeLinkPredictionData(G1, embeddings_deepwalk20) "
   ]
  },
  {
   "cell_type": "code",
   "execution_count": 31,
   "metadata": {},
   "outputs": [
    {
     "name": "stdout",
     "output_type": "stream",
     "text": [
      "Link predictions: 0.7 :Accuracy: 0.587622355541522\n"
     ]
    }
   ],
   "source": [
    "makeLinkPredictionData(G1, embeddings_deepwalk50) "
   ]
  },
  {
   "cell_type": "markdown",
   "metadata": {},
   "source": [
    "<h6>question 1c<h6>"
   ]
  },
  {
   "cell_type": "code",
   "execution_count": 49,
   "metadata": {},
   "outputs": [],
   "source": [
    "def cluster_eval(G, embeddings):\n",
    "    # converting embedding to a numpy array\n",
    "    X = [[0] for i in range(G.number_of_nodes())]\n",
    "    for i in range(0, G.number_of_nodes()):\n",
    "        X[i] = embeddings[str(i+1)]\n",
    "    X = np.array(X)\n",
    "\n",
    "    bestModularity = 0\n",
    "    bestC = 10\n",
    "    NOC = 11\n",
    "    allmodularity = []\n",
    "    for cls in range(10, NOC):\n",
    "        \n",
    "        # find clusters using a kmeans clustering algorithm on the embedding\n",
    "        # Number of clusters is set to cls\n",
    "        clusters = KMeans(n_clusters=cls, random_state=0).fit(X)\n",
    "        predG = dict()\n",
    "        for node in range(len(clusters.labels_)):\n",
    "            predG[node] = clusters.labels_[node]\n",
    "        \n",
    "        # compute the modularity score of the Kmeans clustering\n",
    "        modularity = comm.community_louvain.modularity(predG, G)\n",
    "        allmodularity.append(modularity)\n",
    "        print(\"Number of clusters: \", cls, \"  Modularity: \", modularity)\n",
    "        if modularity > bestModularity:\n",
    "            bestModularity = modularity\n",
    "            bestC = cls\n",
    "    #plt.scatter(range(2, NOC), allmodularity)\n",
    "    #plt.xlabel(\"Number of clusters\")\n",
    "    #plt.ylabel(\"Modularity score\")\n",
    "    #plt.show()"
   ]
  },
  {
   "cell_type": "code",
   "execution_count": 50,
   "metadata": {},
   "outputs": [
    {
     "name": "stdout",
     "output_type": "stream",
     "text": [
      "Number of clusters:  10   Modularity:  0.0002124578979056206\n"
     ]
    }
   ],
   "source": [
    "cluster_eval(G1, embeddings_deepwalk1)"
   ]
  },
  {
   "cell_type": "code",
   "execution_count": 51,
   "metadata": {},
   "outputs": [
    {
     "name": "stdout",
     "output_type": "stream",
     "text": [
      "Number of clusters:  10   Modularity:  0.7583287372882439\n"
     ]
    }
   ],
   "source": [
    "cluster_eval(G1, embeddings_deepwalk5)"
   ]
  },
  {
   "cell_type": "code",
   "execution_count": 52,
   "metadata": {},
   "outputs": [
    {
     "name": "stdout",
     "output_type": "stream",
     "text": [
      "Number of clusters:  10   Modularity:  0.7575264875068223\n"
     ]
    }
   ],
   "source": [
    "cluster_eval(G1, embeddings_deepwalk10)"
   ]
  },
  {
   "cell_type": "code",
   "execution_count": 53,
   "metadata": {},
   "outputs": [
    {
     "name": "stdout",
     "output_type": "stream",
     "text": [
      "Number of clusters:  10   Modularity:  0.7380323760205768\n"
     ]
    }
   ],
   "source": [
    "cluster_eval(G1, embeddings_deepwalk20)"
   ]
  },
  {
   "cell_type": "code",
   "execution_count": 54,
   "metadata": {},
   "outputs": [
    {
     "name": "stdout",
     "output_type": "stream",
     "text": [
      "Number of clusters:  10   Modularity:  0.7325338500336214\n"
     ]
    }
   ],
   "source": [
    "cluster_eval(G1, embeddings_deepwalk50)"
   ]
  },
  {
   "cell_type": "code",
   "execution_count": 55,
   "metadata": {},
   "outputs": [
    {
     "name": "stdout",
     "output_type": "stream",
     "text": [
      "Learning embedding vectors...\n",
      "Learning embedding vectors done!\n"
     ]
    }
   ],
   "source": [
    "walks_deepwalk_n1 = deepwalk_walks(G, walk_length=10, num_walks=1)\n",
    "embeddings_deepwalkn1 = get_embedding(G,walks_deepwalk_n1)"
   ]
  },
  {
   "cell_type": "code",
   "execution_count": 56,
   "metadata": {},
   "outputs": [
    {
     "name": "stdout",
     "output_type": "stream",
     "text": [
      "Learning embedding vectors...\n",
      "Learning embedding vectors done!\n"
     ]
    }
   ],
   "source": [
    "walks_deepwalk_n10 = deepwalk_walks(G, walk_length=10, num_walks=10)\n",
    "embeddings_deepwalkn10 = get_embedding(G,walks_deepwalk_n10)"
   ]
  },
  {
   "cell_type": "code",
   "execution_count": 57,
   "metadata": {},
   "outputs": [
    {
     "name": "stdout",
     "output_type": "stream",
     "text": [
      "Learning embedding vectors...\n",
      "Learning embedding vectors done!\n"
     ]
    }
   ],
   "source": [
    "walks_deepwalk_n40 = deepwalk_walks(G, walk_length=10, num_walks=40)\n",
    "embeddings_deepwalkn40 = get_embedding(G,walks_deepwalk_n40)"
   ]
  },
  {
   "cell_type": "code",
   "execution_count": 58,
   "metadata": {},
   "outputs": [
    {
     "name": "stdout",
     "output_type": "stream",
     "text": [
      "Learning embedding vectors...\n",
      "Learning embedding vectors done!\n"
     ]
    }
   ],
   "source": [
    "walks_deepwalk_n80 = deepwalk_walks(G, walk_length=10, num_walks=80)\n",
    "embeddings_deepwalkn80 = get_embedding(G,walks_deepwalk_n80)"
   ]
  },
  {
   "cell_type": "code",
   "execution_count": 59,
   "metadata": {},
   "outputs": [
    {
     "name": "stdout",
     "output_type": "stream",
     "text": [
      "Learning embedding vectors...\n",
      "Learning embedding vectors done!\n"
     ]
    }
   ],
   "source": [
    "walks_deepwalk_n200 = deepwalk_walks(G, walk_length=10, num_walks=200)\n",
    "embeddings_deepwalkn200 = get_embedding(G,walks_deepwalk_n200)"
   ]
  },
  {
   "cell_type": "markdown",
   "metadata": {},
   "source": [
    "<h6>node_classification<h6>"
   ]
  },
  {
   "cell_type": "code",
   "execution_count": 102,
   "metadata": {},
   "outputs": [
    {
     "name": "stdout",
     "output_type": "stream",
     "text": [
      "Training classifier using 70.00% nodes...\n",
      "-------------------\n",
      "{'acc': 0.601965601965602}\n",
      "-------------------\n"
     ]
    }
   ],
   "source": [
    "node_classification(embeddings_deepwalkn1, labelfile)"
   ]
  },
  {
   "cell_type": "code",
   "execution_count": 61,
   "metadata": {},
   "outputs": [
    {
     "name": "stdout",
     "output_type": "stream",
     "text": [
      "Training classifier using 70.00% nodes...\n",
      "-------------------\n",
      "{'acc': 0.7592137592137592}\n",
      "-------------------\n"
     ]
    }
   ],
   "source": [
    "node_classification(embeddings_deepwalkn10, labelfile)"
   ]
  },
  {
   "cell_type": "code",
   "execution_count": 62,
   "metadata": {},
   "outputs": [
    {
     "name": "stdout",
     "output_type": "stream",
     "text": [
      "Training classifier using 70.00% nodes...\n",
      "-------------------\n",
      "{'acc': 0.7862407862407862}\n",
      "-------------------\n"
     ]
    }
   ],
   "source": [
    "node_classification(embeddings_deepwalkn40, labelfile)"
   ]
  },
  {
   "cell_type": "code",
   "execution_count": 63,
   "metadata": {},
   "outputs": [
    {
     "name": "stdout",
     "output_type": "stream",
     "text": [
      "Training classifier using 70.00% nodes...\n",
      "-------------------\n",
      "{'acc': 0.7936117936117936}\n",
      "-------------------\n"
     ]
    }
   ],
   "source": [
    "node_classification(embeddings_deepwalkn80, labelfile)"
   ]
  },
  {
   "cell_type": "code",
   "execution_count": 64,
   "metadata": {},
   "outputs": [
    {
     "name": "stdout",
     "output_type": "stream",
     "text": [
      "Training classifier using 70.00% nodes...\n",
      "-------------------\n",
      "{'acc': 0.800982800982801}\n",
      "-------------------\n"
     ]
    }
   ],
   "source": [
    "node_classification(embeddings_deepwalkn200, labelfile)"
   ]
  },
  {
   "cell_type": "markdown",
   "metadata": {},
   "source": [
    "<h6>make link prediction<h6>"
   ]
  },
  {
   "cell_type": "code",
   "execution_count": 67,
   "metadata": {},
   "outputs": [
    {
     "name": "stdout",
     "output_type": "stream",
     "text": [
      "Link predictions: 0.7 :Accuracy: 0.5787811809283233\n"
     ]
    }
   ],
   "source": [
    "makeLinkPredictionData(G1, embeddings_deepwalkn1) "
   ]
  },
  {
   "cell_type": "code",
   "execution_count": 68,
   "metadata": {},
   "outputs": [
    {
     "name": "stdout",
     "output_type": "stream",
     "text": [
      "Link predictions: 0.7 :Accuracy: 0.5345753078623303\n"
     ]
    }
   ],
   "source": [
    "makeLinkPredictionData(G1, embeddings_deepwalkn10) "
   ]
  },
  {
   "cell_type": "code",
   "execution_count": 69,
   "metadata": {},
   "outputs": [
    {
     "name": "stdout",
     "output_type": "stream",
     "text": [
      "Link predictions: 0.7 :Accuracy: 0.5718345437322387\n"
     ]
    }
   ],
   "source": [
    "makeLinkPredictionData(G1, embeddings_deepwalkn40) "
   ]
  },
  {
   "cell_type": "code",
   "execution_count": 70,
   "metadata": {},
   "outputs": [
    {
     "name": "stdout",
     "output_type": "stream",
     "text": [
      "Link predictions: 0.7 :Accuracy: 0.5797284496368803\n"
     ]
    }
   ],
   "source": [
    "makeLinkPredictionData(G1, embeddings_deepwalkn80) "
   ]
  },
  {
   "cell_type": "code",
   "execution_count": 71,
   "metadata": {},
   "outputs": [
    {
     "name": "stdout",
     "output_type": "stream",
     "text": [
      "Link predictions: 0.7 :Accuracy: 0.6024628986422482\n"
     ]
    }
   ],
   "source": [
    "makeLinkPredictionData(G1, embeddings_deepwalkn200) "
   ]
  },
  {
   "cell_type": "markdown",
   "metadata": {},
   "source": [
    "<h6>cluster_eval<h6>"
   ]
  },
  {
   "cell_type": "code",
   "execution_count": 72,
   "metadata": {},
   "outputs": [
    {
     "name": "stdout",
     "output_type": "stream",
     "text": [
      "Number of clusters:  10   Modularity:  0.5615763726284299\n"
     ]
    }
   ],
   "source": [
    "cluster_eval(G1, embeddings_deepwalkn1)"
   ]
  },
  {
   "cell_type": "code",
   "execution_count": 73,
   "metadata": {},
   "outputs": [
    {
     "name": "stdout",
     "output_type": "stream",
     "text": [
      "Number of clusters:  10   Modularity:  0.7660417469269437\n"
     ]
    }
   ],
   "source": [
    "cluster_eval(G1, embeddings_deepwalkn10)"
   ]
  },
  {
   "cell_type": "code",
   "execution_count": 75,
   "metadata": {},
   "outputs": [
    {
     "name": "stdout",
     "output_type": "stream",
     "text": [
      "Number of clusters:  10   Modularity:  0.7628934321091747\n"
     ]
    }
   ],
   "source": [
    "cluster_eval(G1, embeddings_deepwalkn40)"
   ]
  },
  {
   "cell_type": "code",
   "execution_count": 76,
   "metadata": {},
   "outputs": [
    {
     "name": "stdout",
     "output_type": "stream",
     "text": [
      "Number of clusters:  10   Modularity:  0.7557577041609657\n"
     ]
    }
   ],
   "source": [
    "cluster_eval(G1, embeddings_deepwalkn80)"
   ]
  },
  {
   "cell_type": "code",
   "execution_count": 77,
   "metadata": {},
   "outputs": [
    {
     "name": "stdout",
     "output_type": "stream",
     "text": [
      "Number of clusters:  10   Modularity:  0.7496526043242407\n"
     ]
    }
   ],
   "source": [
    "cluster_eval(G1, embeddings_deepwalkn200)"
   ]
  },
  {
   "cell_type": "markdown",
   "metadata": {},
   "source": [
    "<h4>question 3<h4>"
   ]
  },
  {
   "cell_type": "code",
   "execution_count": 80,
   "metadata": {},
   "outputs": [
    {
     "name": "stdout",
     "output_type": "stream",
     "text": [
      "Learning embedding vectors...\n",
      "Learning embedding vectors done!\n"
     ]
    }
   ],
   "source": [
    "walks_deepwalk = deepwalk_walks(G, walk_length=10, num_walks=80)\n",
    "embeddings_deepwalke1 = get_embedding(G,walks_deepwalk, embed_size=2)"
   ]
  },
  {
   "cell_type": "code",
   "execution_count": 81,
   "metadata": {},
   "outputs": [
    {
     "name": "stdout",
     "output_type": "stream",
     "text": [
      "Learning embedding vectors...\n",
      "Learning embedding vectors done!\n"
     ]
    }
   ],
   "source": [
    "walks_deepwalk = deepwalk_walks(G, walk_length=10, num_walks=80)\n",
    "embeddings_deepwalke10 = get_embedding(G,walks_deepwalk, embed_size=10)"
   ]
  },
  {
   "cell_type": "code",
   "execution_count": 83,
   "metadata": {},
   "outputs": [
    {
     "name": "stdout",
     "output_type": "stream",
     "text": [
      "Learning embedding vectors...\n",
      "Learning embedding vectors done!\n"
     ]
    }
   ],
   "source": [
    "walks_deepwalk = deepwalk_walks(G, walk_length=10, num_walks=80)\n",
    "embeddings_deepwalke50 = get_embedding(G,walks_deepwalk, embed_size=50)"
   ]
  },
  {
   "cell_type": "code",
   "execution_count": 84,
   "metadata": {},
   "outputs": [
    {
     "name": "stdout",
     "output_type": "stream",
     "text": [
      "Learning embedding vectors...\n",
      "Learning embedding vectors done!\n"
     ]
    }
   ],
   "source": [
    "walks_deepwalk = deepwalk_walks(G, walk_length=10, num_walks=80)\n",
    "embeddings_deepwalke120 = get_embedding(G,walks_deepwalk, embed_size=120)"
   ]
  },
  {
   "cell_type": "code",
   "execution_count": 85,
   "metadata": {},
   "outputs": [
    {
     "name": "stdout",
     "output_type": "stream",
     "text": [
      "Learning embedding vectors...\n",
      "Learning embedding vectors done!\n"
     ]
    }
   ],
   "source": [
    "walks_deepwalk = deepwalk_walks(G, walk_length=10, num_walks=80)\n",
    "embeddings_deepwalke500 = get_embedding(G,walks_deepwalk, embed_size=500)"
   ]
  },
  {
   "cell_type": "markdown",
   "metadata": {},
   "source": [
    "<h6>node classification<h6>"
   ]
  },
  {
   "cell_type": "code",
   "execution_count": 86,
   "metadata": {},
   "outputs": [
    {
     "name": "stdout",
     "output_type": "stream",
     "text": [
      "Training classifier using 70.00% nodes...\n",
      "-------------------\n",
      "{'acc': 0.3046683046683047}\n",
      "-------------------\n"
     ]
    }
   ],
   "source": [
    "node_classification(embeddings_deepwalke1, labelfile)"
   ]
  },
  {
   "cell_type": "code",
   "execution_count": 87,
   "metadata": {},
   "outputs": [
    {
     "name": "stdout",
     "output_type": "stream",
     "text": [
      "Training classifier using 70.00% nodes...\n",
      "-------------------\n",
      "{'acc': 0.7592137592137592}\n",
      "-------------------\n"
     ]
    }
   ],
   "source": [
    "node_classification(embeddings_deepwalke10, labelfile)"
   ]
  },
  {
   "cell_type": "code",
   "execution_count": 88,
   "metadata": {},
   "outputs": [
    {
     "name": "stdout",
     "output_type": "stream",
     "text": [
      "Training classifier using 70.00% nodes...\n",
      "-------------------\n",
      "{'acc': 0.7592137592137592}\n",
      "-------------------\n"
     ]
    }
   ],
   "source": [
    "node_classification(embeddings_deepwalke50, labelfile)"
   ]
  },
  {
   "cell_type": "code",
   "execution_count": 89,
   "metadata": {},
   "outputs": [
    {
     "name": "stdout",
     "output_type": "stream",
     "text": [
      "Training classifier using 70.00% nodes...\n",
      "-------------------\n",
      "{'acc': 0.800982800982801}\n",
      "-------------------\n"
     ]
    }
   ],
   "source": [
    "node_classification(embeddings_deepwalke120, labelfile)"
   ]
  },
  {
   "cell_type": "code",
   "execution_count": 90,
   "metadata": {},
   "outputs": [
    {
     "name": "stdout",
     "output_type": "stream",
     "text": [
      "Training classifier using 70.00% nodes...\n",
      "-------------------\n",
      "{'acc': 0.7985257985257985}\n",
      "-------------------\n"
     ]
    }
   ],
   "source": [
    "node_classification(embeddings_deepwalke500, labelfile)"
   ]
  },
  {
   "cell_type": "markdown",
   "metadata": {},
   "source": [
    "<h6>make link prediction<h6>"
   ]
  },
  {
   "cell_type": "code",
   "execution_count": 91,
   "metadata": {},
   "outputs": [
    {
     "name": "stdout",
     "output_type": "stream",
     "text": [
      "Link predictions: 0.7 :Accuracy: 0.6381433533312283\n"
     ]
    }
   ],
   "source": [
    "makeLinkPredictionData(G1, embeddings_deepwalke1) "
   ]
  },
  {
   "cell_type": "code",
   "execution_count": 92,
   "metadata": {},
   "outputs": [
    {
     "name": "stdout",
     "output_type": "stream",
     "text": [
      "Link predictions: 0.7 :Accuracy: 0.5923586990843069\n"
     ]
    }
   ],
   "source": [
    "makeLinkPredictionData(G1, embeddings_deepwalke10) "
   ]
  },
  {
   "cell_type": "code",
   "execution_count": 93,
   "metadata": {},
   "outputs": [
    {
     "name": "stdout",
     "output_type": "stream",
     "text": [
      "Link predictions: 0.7 :Accuracy: 0.5854120618882223\n"
     ]
    }
   ],
   "source": [
    "makeLinkPredictionData(G1, embeddings_deepwalke50) "
   ]
  },
  {
   "cell_type": "code",
   "execution_count": 94,
   "metadata": {},
   "outputs": [
    {
     "name": "stdout",
     "output_type": "stream",
     "text": [
      "Link predictions: 0.7 :Accuracy: 0.5945689927376065\n"
     ]
    }
   ],
   "source": [
    "makeLinkPredictionData(G1, embeddings_deepwalke120) "
   ]
  },
  {
   "cell_type": "code",
   "execution_count": 95,
   "metadata": {},
   "outputs": [
    {
     "name": "stdout",
     "output_type": "stream",
     "text": [
      "Link predictions: 0.7 :Accuracy: 0.57246605620461\n"
     ]
    }
   ],
   "source": [
    "makeLinkPredictionData(G1, embeddings_deepwalke500) "
   ]
  },
  {
   "cell_type": "markdown",
   "metadata": {},
   "source": [
    "<h6>clus_eval<h6>"
   ]
  },
  {
   "cell_type": "code",
   "execution_count": 96,
   "metadata": {},
   "outputs": [
    {
     "name": "stdout",
     "output_type": "stream",
     "text": [
      "Number of clusters:  10   Modularity:  0.6016346747945708\n"
     ]
    }
   ],
   "source": [
    "cluster_eval(G1, embeddings_deepwalke1)"
   ]
  },
  {
   "cell_type": "code",
   "execution_count": 98,
   "metadata": {},
   "outputs": [
    {
     "name": "stdout",
     "output_type": "stream",
     "text": [
      "Number of clusters:  10   Modularity:  0.7588636063731123\n"
     ]
    }
   ],
   "source": [
    "cluster_eval(G1, embeddings_deepwalke10)"
   ]
  },
  {
   "cell_type": "code",
   "execution_count": 99,
   "metadata": {},
   "outputs": [
    {
     "name": "stdout",
     "output_type": "stream",
     "text": [
      "Number of clusters:  10   Modularity:  0.7653932450844814\n"
     ]
    }
   ],
   "source": [
    "cluster_eval(G1, embeddings_deepwalke50)"
   ]
  },
  {
   "cell_type": "code",
   "execution_count": 100,
   "metadata": {},
   "outputs": [
    {
     "name": "stdout",
     "output_type": "stream",
     "text": [
      "Number of clusters:  10   Modularity:  0.747204339805704\n"
     ]
    }
   ],
   "source": [
    "cluster_eval(G1, embeddings_deepwalke120)"
   ]
  },
  {
   "cell_type": "code",
   "execution_count": 101,
   "metadata": {},
   "outputs": [
    {
     "name": "stdout",
     "output_type": "stream",
     "text": [
      "Number of clusters:  10   Modularity:  0.7280326933523025\n"
     ]
    }
   ],
   "source": [
    "cluster_eval(G1, embeddings_deepwalke500)"
   ]
  },
  {
   "cell_type": "markdown",
   "metadata": {},
   "source": [
    "<h6>Observation: As observed walk lengths should be balanced not too high and not too low as low walk \n",
    "lengths prevents us from exploring graph and high walk lengths can result in repetition of \n",
    "information.\n",
    "Num of walks should be in upper mid range for best result in node classification and link prediction \n",
    "but if target is cluster evaluation it should be balanced.\n",
    "Embedding size should be low if target is link prediction else it should be balanced for best result<h6>"
   ]
  },
  {
   "cell_type": "code",
   "execution_count": null,
   "metadata": {},
   "outputs": [],
   "source": []
  }
 ],
 "metadata": {
  "kernelspec": {
   "display_name": "Python 3",
   "language": "python",
   "name": "python3"
  },
  "language_info": {
   "codemirror_mode": {
    "name": "ipython",
    "version": 3
   },
   "file_extension": ".py",
   "mimetype": "text/x-python",
   "name": "python",
   "nbconvert_exporter": "python",
   "pygments_lexer": "ipython3",
   "version": "3.8.5"
  }
 },
 "nbformat": 4,
 "nbformat_minor": 4
}
